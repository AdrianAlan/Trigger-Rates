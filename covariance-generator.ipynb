{
 "cells": [
  {
   "cell_type": "code",
   "execution_count": 1,
   "metadata": {
    "collapsed": true
   },
   "outputs": [],
   "source": [
    "import getpass\n",
    "import json as json\n",
    "import os\n",
    "import numpy as np\n",
    "import matplotlib\n",
    "import matplotlib.pyplot as plt\n",
    "import pandas as pd\n",
    "\n",
    "from itertools import compress\n",
    "from sklearn import covariance, cluster\n",
    "\n",
    "%matplotlib inline "
   ]
  },
  {
   "cell_type": "markdown",
   "metadata": {},
   "source": [
    "# Monitoring Trigger Rates: Generate Covarience for a Given Fill"
   ]
  },
  {
   "cell_type": "code",
   "execution_count": 2,
   "metadata": {
    "collapsed": true
   },
   "outputs": [],
   "source": [
    "READ_PATH = \"./data\"\n",
    "WRITE_PATH = \"./matrix_visualization/static\"\n",
    "DATA_PATH = \"/eos/cms/store/cmst3/group/dehep/adpol/trigger\""
   ]
  },
  {
   "cell_type": "code",
   "execution_count": 3,
   "metadata": {
    "collapsed": false
   },
   "outputs": [
    {
     "name": "stdout",
     "output_type": "stream",
     "text": [
      "········\n"
     ]
    },
    {
     "data": {
      "text/plain": [
       "0"
      ]
     },
     "execution_count": 3,
     "metadata": {},
     "output_type": "execute_result"
    }
   ],
   "source": [
    "# Get pass for EOS\n",
    "\n",
    "os.system(\"echo %s | kinit\" % getpass.getpass())"
   ]
  },
  {
   "cell_type": "code",
   "execution_count": 4,
   "metadata": {
    "collapsed": false
   },
   "outputs": [
    {
     "data": {
      "text/html": [
       "<div>\n",
       "<style scoped>\n",
       "    .dataframe tbody tr th:only-of-type {\n",
       "        vertical-align: middle;\n",
       "    }\n",
       "\n",
       "    .dataframe tbody tr th {\n",
       "        vertical-align: top;\n",
       "    }\n",
       "\n",
       "    .dataframe thead th {\n",
       "        text-align: right;\n",
       "    }\n",
       "</style>\n",
       "<table border=\"1\" class=\"dataframe\">\n",
       "  <thead>\n",
       "    <tr style=\"text-align: right;\">\n",
       "      <th></th>\n",
       "      <th>trigger</th>\n",
       "      <th>function</th>\n",
       "      <th>sigma</th>\n",
       "      <th>run</th>\n",
       "      <th>mode</th>\n",
       "    </tr>\n",
       "  </thead>\n",
       "  <tbody>\n",
       "    <tr>\n",
       "      <th>0</th>\n",
       "      <td>AlCa_EcalEtaEBonly</td>\n",
       "      <td>-0.577724010406387+x*(0.062083640099194+ x*(-0...</td>\n",
       "      <td>0.357559</td>\n",
       "      <td>304797</td>\n",
       "      <td>l1_hlt_collisions2017/v282</td>\n",
       "    </tr>\n",
       "  </tbody>\n",
       "</table>\n",
       "</div>"
      ],
      "text/plain": [
       "              trigger                                           function  \\\n",
       "0  AlCa_EcalEtaEBonly  -0.577724010406387+x*(0.062083640099194+ x*(-0...   \n",
       "\n",
       "      sigma     run                        mode  \n",
       "0  0.357559  304797  l1_hlt_collisions2017/v282  "
      ]
     },
     "execution_count": 4,
     "metadata": {},
     "output_type": "execute_result"
    }
   ],
   "source": [
    "# Load information about available rates and their fits\n",
    "\n",
    "rates = pd.read_csv(\"./data/rates_with_fit.csv\",\n",
    "                    dtype={\"trigger\": str,\n",
    "                           \"function\": str,\n",
    "                           \"sigma\": float,\n",
    "                           \"run\": int,\n",
    "                           \"mode\": str},\n",
    "                    index_col=0)\n",
    "rates.head(1)"
   ]
  },
  {
   "cell_type": "code",
   "execution_count": 5,
   "metadata": {
    "collapsed": false
   },
   "outputs": [
    {
     "data": {
      "text/html": [
       "<div>\n",
       "<style scoped>\n",
       "    .dataframe tbody tr th:only-of-type {\n",
       "        vertical-align: middle;\n",
       "    }\n",
       "\n",
       "    .dataframe tbody tr th {\n",
       "        vertical-align: top;\n",
       "    }\n",
       "\n",
       "    .dataframe thead th {\n",
       "        text-align: right;\n",
       "    }\n",
       "</style>\n",
       "<table border=\"1\" class=\"dataframe\">\n",
       "  <thead>\n",
       "    <tr style=\"text-align: right;\">\n",
       "      <th></th>\n",
       "      <th>trigger</th>\n",
       "      <th>function</th>\n",
       "      <th>sigma</th>\n",
       "      <th>run</th>\n",
       "      <th>mode</th>\n",
       "      <th>fill</th>\n",
       "    </tr>\n",
       "  </thead>\n",
       "  <tbody>\n",
       "    <tr>\n",
       "      <th>0</th>\n",
       "      <td>AlCa_EcalEtaEBonly</td>\n",
       "      <td>-0.577724010406387+x*(0.062083640099194+ x*(-0...</td>\n",
       "      <td>0.357559</td>\n",
       "      <td>304797</td>\n",
       "      <td>l1_hlt_collisions2017/v282</td>\n",
       "      <td>6291</td>\n",
       "    </tr>\n",
       "  </tbody>\n",
       "</table>\n",
       "</div>"
      ],
      "text/plain": [
       "              trigger                                           function  \\\n",
       "0  AlCa_EcalEtaEBonly  -0.577724010406387+x*(0.062083640099194+ x*(-0...   \n",
       "\n",
       "      sigma     run                        mode  fill  \n",
       "0  0.357559  304797  l1_hlt_collisions2017/v282  6291  "
      ]
     },
     "execution_count": 5,
     "metadata": {},
     "output_type": "execute_result"
    }
   ],
   "source": [
    "# Add LHC fill number\n",
    "\n",
    "fills = pd.read_csv(\"./data/lhc_fills.csv\",\n",
    "                    names=[\"run\", \"fill\"])\n",
    "rates = pd.merge(rates, fills, on=\"run\")\n",
    "rates.head(1)"
   ]
  },
  {
   "cell_type": "code",
   "execution_count": 6,
   "metadata": {
    "collapsed": false
   },
   "outputs": [
    {
     "name": "stdout",
     "output_type": "stream",
     "text": [
      "Total number of runs: 272\n",
      "Total number of fills: 105\n"
     ]
    }
   ],
   "source": [
    "print(\"Total number of runs: %s\" % len(rates.run.unique()))\n",
    "print(\"Total number of fills: %s\" % len(rates.fill.unique()))"
   ]
  },
  {
   "cell_type": "code",
   "execution_count": 7,
   "metadata": {
    "collapsed": false
   },
   "outputs": [],
   "source": [
    "# Select globals for study\n",
    "\n",
    "SELECT_FILLS = [6287]\n",
    "\n",
    "SELECT_RUNS = rates[rates[\"fill\"].isin(SELECT_FILLS)][\"run\"].values\n",
    "\n",
    "SELECT_TRIGGERS = list(\n",
    "    set(\n",
    "        rates[rates.trigger.str.contains(\"Mu\", na=False) & rates.trigger.str.contains(\"HLT\", na=False) &\n",
    "             (rates.fill.isin(SELECT_FILLS))].trigger.unique().tolist() + \n",
    "        rates[rates.trigger.str.contains(\"EG\", na=False) & rates.trigger.str.contains(\"HLT\", na=False) &\n",
    "             (rates.fill.isin(SELECT_FILLS))].trigger.unique().tolist() +\n",
    "        rates[rates.trigger.str.contains(\"Ele\", na=False) & rates.trigger.str.contains(\"HLT\", na=False) &\n",
    "             (rates.fill.isin(SELECT_FILLS))].trigger.unique().tolist()\n",
    "    )\n",
    ")\n",
    "\n",
    "SELECT_TRIGGERS = sorted(SELECT_TRIGGERS)"
   ]
  },
  {
   "cell_type": "code",
   "execution_count": 8,
   "metadata": {
    "collapsed": false
   },
   "outputs": [],
   "source": [
    "# Load rates\n",
    "\n",
    "data_rates = pd.DataFrame()\n",
    "for _, sample in rates[rates.trigger.isin(SELECT_TRIGGERS)].iterrows():\n",
    "    \n",
    "    if not sample[\"run\"] in SELECT_RUNS:\n",
    "        continue\n",
    "\n",
    "    try:\n",
    "        # Load rates from .npy\n",
    "        rates_array = np.load(\"%s/%s/%s.npy\" % \n",
    "                              (DATA_PATH, sample[\"run\"], sample[\"trigger\"]))\n",
    "\n",
    "        # Save rates to dataframe\n",
    "        sample[\"rates\"] = rates_array\n",
    "    except:\n",
    "        sample[\"rates\"] = np.nan\n",
    "        \n",
    "    data_rates = data_rates.append(pd.Series(sample))"
   ]
  },
  {
   "cell_type": "code",
   "execution_count": 9,
   "metadata": {
    "collapsed": true
   },
   "outputs": [],
   "source": [
    "data_rates.dropna(inplace=True)\n",
    "SELECT_RUNS = data_rates.run.unique()"
   ]
  },
  {
   "cell_type": "code",
   "execution_count": 10,
   "metadata": {
    "collapsed": false
   },
   "outputs": [],
   "source": [
    "# Combine rates vs fill\n",
    "\n",
    "data = pd.DataFrame()\n",
    "\n",
    "for fill in SELECT_FILLS:\n",
    "    for trigger in SELECT_TRIGGERS:\n",
    "\n",
    "        function = None\n",
    "        sigma = None\n",
    "        runs = []\n",
    "        rates = np.empty((2,0))\n",
    "        for _, sample in data_rates[(data_rates[\"trigger\"] == trigger) &\n",
    "                                    (data_rates[\"fill\"] == fill)].sort_values(by=[\"run\"]).iterrows():\n",
    "            # Append rates\n",
    "            rates_array = np.hstack((rates, np.array(sample[\"rates\"])))\n",
    "            \n",
    "            # Sort rates based on <PU>\n",
    "            rates_sorted = rates_array[:,np.argsort(rates_array[0])]\n",
    "            \n",
    "            # Reverse sorting\n",
    "            rates_sorted =  np.fliplr(rates_sorted)\n",
    "            \n",
    "            runs.append(sample[\"run\"])\n",
    "            if function is None:\n",
    "                function = sample[\"function\"]\n",
    "                sigma = sample[\"sigma\"]\n",
    "\n",
    "        if len(runs) != len(SELECT_RUNS):\n",
    "            continue\n",
    "                \n",
    "        data = data.append(pd.Series({\"prediciton\": function,\n",
    "                                      \"sigma\": sigma,\n",
    "                                      \"fill\": fill,\n",
    "                                      \"rates\": rates_sorted,\n",
    "                                      \"trigger\": trigger}),\n",
    "                           ignore_index=True)"
   ]
  },
  {
   "cell_type": "code",
   "execution_count": 11,
   "metadata": {
    "collapsed": false
   },
   "outputs": [],
   "source": [
    "# Fix predictions\n",
    "\n",
    "from sklearn.linear_model import LinearRegression\n",
    "from sklearn.preprocessing import PolynomialFeatures\n",
    "from sklearn.pipeline import Pipeline\n",
    "\n",
    "def correct_prediction(rates):\n",
    "    model = Pipeline([(\"poly\", PolynomialFeatures(degree=3)),\n",
    "                      (\"linear\", LinearRegression(fit_intercept=False))])\n",
    "\n",
    "    model.fit(rates[0].reshape(-1, 1), rates[1].reshape(-1, 1))\n",
    "    return \"%s+x*%s+x*x*%s+x*x*x*%s\" % tuple(model.named_steps[\"linear\"].coef_[0])\n",
    "    \n",
    "data[\"prediciton\"] = data[\"rates\"].apply(correct_prediction)"
   ]
  },
  {
   "cell_type": "code",
   "execution_count": 12,
   "metadata": {
    "collapsed": true
   },
   "outputs": [],
   "source": [
    "SELECT_TRIGGERS = data.trigger.unique()"
   ]
  },
  {
   "cell_type": "markdown",
   "metadata": {},
   "source": [
    "## Covariance"
   ]
  },
  {
   "cell_type": "code",
   "execution_count": 13,
   "metadata": {
    "collapsed": true
   },
   "outputs": [],
   "source": [
    "# Utilities\n",
    "\n",
    "def find_common_pu(pileups):  \n",
    "    common_pu = np.array([])\n",
    "    for pu in pileups[0]:\n",
    "        include = True\n",
    "        for pus in pileups:\n",
    "            if pu not in pus:\n",
    "                include = False\n",
    "        if include:\n",
    "            common_pu = np.append(common_pu, pu)\n",
    "    return common_pu\n",
    "\n",
    "def eq_seq(ref, rates):\n",
    "    indexes = []\n",
    "    for i in range(len(rates)):\n",
    "        if not rates[i] in ref:\n",
    "            indexes.append(i)\n",
    "    return indexes\n",
    "\n",
    "def normalize_to_prediction(x, function):\n",
    "    return eval(function.replace('sinh', 'np.sinh'))\n",
    "\n",
    "def calculate_first_differences(rates):\n",
    "    seq = []\n",
    "    for i in range(len(rates)-1):\n",
    "        seq.append(rates[i + 1] - rates[i])\n",
    "    return seq\n",
    "\n",
    "def calculate_link_relatives(rates):\n",
    "    seq = []\n",
    "    for i in range(len(rates)-1):\n",
    "        seq.append(rates[i + 1] / rates[i])\n",
    "    return seq\n",
    "\n",
    "def plot_covariance(my_covariance):\n",
    "    fig = plt.figure()\n",
    "    vmax = my_covariance.max()\n",
    "    plt.figure(figsize=(24, 14))\n",
    "    plt.imshow(my_covariance, interpolation='nearest', vmin=-vmax, vmax=vmax, cmap=plt.cm.RdBu_r)\n",
    "    plt.colorbar()\n",
    "    plt.show()\n",
    "\n",
    "def export_data_for_d3(cm, cluster, file_name):\n",
    "    nodes = []\n",
    "    for trigger, group in zip(SELECT_TRIGGERS, cluster):\n",
    "        nodes.append({\"name\": trigger,\n",
    "                      \"group\": int(group)})\n",
    "\n",
    "    links = []\n",
    "    itter = len(SELECT_TRIGGERS)\n",
    "    for i in range(itter):\n",
    "        for j in range(i, itter):\n",
    "            links.append({\"source\": i,\n",
    "                          \"target\": j,\n",
    "                          \"value\": cm[i][j]})\n",
    "\n",
    "    with open(file_name, \"w\") as file:\n",
    "        \n",
    "        file.write(json.dumps({\"nodes\": nodes,\n",
    "                               \"links\": links}))"
   ]
  },
  {
   "cell_type": "code",
   "execution_count": 14,
   "metadata": {
    "collapsed": false
   },
   "outputs": [],
   "source": [
    "def calculate_covariance(fills, triggers, require_modeling=False,\n",
    "                         first_differences=False, link_relatives=False, fraction=1.0):\n",
    "\n",
    "    number_of_triggers = len(triggers)\n",
    "    covariance_matrix = np.zeros([number_of_triggers, number_of_triggers])\n",
    "    itterations = 0\n",
    "\n",
    "    for fill in fills:\n",
    "\n",
    "        if (len(data[data.fill == fill]) == len(triggers)):\n",
    "\n",
    "            # Change time series to follow the same <pu>\n",
    "            rates = [r[1] for r in data[data.fill == fill].rates.values]\n",
    "            pu = [r[0] for r in data[data.fill == fill].rates.values]\n",
    "            \n",
    "            common_pu = find_common_pu(pu)\n",
    "            common_pu = common_pu[:int(fraction*len(common_pu))]\n",
    "            \n",
    "            for i in range(number_of_triggers):\n",
    "                indexes = eq_seq(common_pu, pu[i])\n",
    "                rates[i] = np.delete(rates[i], indexes)\n",
    "\n",
    "            # De-trending: Substract prediction\n",
    "            if require_modeling:\n",
    "                predict = data[data.fill == fill].prediciton.values\n",
    "                for i in range(number_of_triggers):\n",
    "                    rates[i] = rates[i] - normalize_to_prediction(common_pu, predict[i])                   \n",
    "                   \n",
    "            # De-trending: Calculate first differences\n",
    "            if first_differences:\n",
    "                rates = [calculate_first_differences(r) for r in rates]\n",
    "            \n",
    "            # De-trending: Calculate link relatives\n",
    "            if link_relatives:\n",
    "                rates = [calculate_link_relatives(r) for r in rates]\n",
    "                \n",
    "            var = np.concatenate(rates).reshape(len(triggers), -1)\n",
    "            X = var.copy().T\n",
    "            X /= X.std(axis=0)\n",
    "\n",
    "            #edge_model = covariance.GraphLassoCV()\n",
    "            #edge_model.fit(X)\n",
    "            #covariance_matrix = covariance_matrix + edge_model.covariance_\n",
    "\n",
    "            edge_model = covariance.empirical_covariance(X)\n",
    "            covariance_matrix = covariance_matrix + edge_model\n",
    "\n",
    "            itterations += 1\n",
    "                \n",
    "    return covariance_matrix / itterations"
   ]
  },
  {
   "cell_type": "code",
   "execution_count": 15,
   "metadata": {
    "collapsed": false
   },
   "outputs": [
    {
     "data": {
      "text/plain": [
       "<matplotlib.figure.Figure at 0x7f6f485d70f0>"
      ]
     },
     "metadata": {},
     "output_type": "display_data"
    },
    {
     "data": {
      "image/png": "[encoded data removed]",
      "text/plain": [
       "<matplotlib.figure.Figure at 0x7f6f47b8a6a0>"
      ]
     },
     "metadata": {},
     "output_type": "display_data"
    }
   ],
   "source": [
    "for fraction in range(10, 101, 10):\n",
    "    fraction = fraction/100\n",
    "    for flags in [(0,0,0), (1,0,0), (0,1,0), (1,1,0), (1,0,1), (1,1,1)]:\n",
    "        covariance_matrix = calculate_covariance(SELECT_FILLS, SELECT_TRIGGERS,\n",
    "                                                 flags[0], flags[1], flags[2],\n",
    "                                                fraction)\n",
    "        _, labels = cluster.affinity_propagation(covariance_matrix)\n",
    "        json_name = \"%s/data/data%sfrac%s.json\" % (WRITE_PATH,\n",
    "                                             ''.join(str(i) for i in flags),\n",
    "                                            int(fraction*100))\n",
    "        export_data_for_d3(covariance_matrix, labels, json_name)\n",
    "        if set(flags) == {0} and fraction == 1:\n",
    "            plot_covariance(covariance_matrix)"
   ]
  },
  {
   "cell_type": "code",
   "execution_count": 16,
   "metadata": {
    "collapsed": false
   },
   "outputs": [],
   "source": [
    "def PlotTrigger(ax, sample):\n",
    "    x = sample.rates[0]\n",
    "    prediction = eval(sample.prediciton.replace('sinh', 'np.sinh'))\n",
    "    smax = prediction + sample.sigma\n",
    "    smin = prediction - sample.sigma\n",
    "    \n",
    "    ax.plot(x, sample.rates[1], 'bo', markersize=2)\n",
    "    ax.plot(x, prediction, 'r-', alpha=0.5)\n",
    "    ax.fill_between(x, smax, smin, color='red', alpha=0.2)\n",
    "\n",
    "for _, sample in data.iterrows():\n",
    "    fig = plt.figure()\n",
    "    ax = fig.add_subplot(111)\n",
    "    PlotTrigger(ax, sample)\n",
    "    ax.set_title(\"%s\" % (sample.trigger))\n",
    "    ax.set_ylabel(\"Rate [Hz]\")\n",
    "    ax.set_xlabel(\"<PU>\")\n",
    "    plt.savefig('%s/figures/%s.png' % (WRITE_PATH, sample.trigger));\n",
    "    plt.close(fig)"
   ]
  },
  {
   "cell_type": "code",
   "execution_count": null,
   "metadata": {
    "collapsed": true
   },
   "outputs": [],
   "source": []
  }
 ],
 "metadata": {
  "kernelspec": {
   "display_name": "Python 3",
   "language": "python",
   "name": "python3"
  },
  "language_info": {
   "codemirror_mode": {
    "name": "ipython",
    "version": 3
   },
   "file_extension": ".py",
   "mimetype": "text/x-python",
   "name": "python",
   "nbconvert_exporter": "python",
   "pygments_lexer": "ipython3",
   "version": "3.6.0"
  }
 },
 "nbformat": 4,
 "nbformat_minor": 1
}
